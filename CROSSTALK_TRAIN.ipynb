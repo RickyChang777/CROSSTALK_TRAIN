{
  "cells": [
    {
      "cell_type": "markdown",
      "metadata": {
        "id": "Zx383bU7NA1P"
      },
      "source": [
        "# Set up envinroment for Google Colab"
      ]
    },
    {
      "cell_type": "code",
      "execution_count": 3,
      "metadata": {
        "colab": {
          "base_uri": "https://localhost:8080/"
        },
        "id": "t6w7nq08NA1Q",
        "outputId": "7c678373-681f-41c6-87a1-eebeff649b61"
      },
      "outputs": [
        {
          "output_type": "stream",
          "name": "stdout",
          "text": [
            "Cloning into 'crosstalk-q1-2025'...\n",
            "remote: Enumerating objects: 178, done.\u001b[K\n",
            "remote: Counting objects: 100% (23/23), done.\u001b[K\n",
            "remote: Compressing objects: 100% (20/20), done.\u001b[K\n",
            "remote: Total 178 (delta 7), reused 7 (delta 3), pack-reused 155 (from 1)\u001b[K\n",
            "Receiving objects: 100% (178/178), 33.46 MiB | 23.04 MiB/s, done.\n",
            "Resolving deltas: 100% (81/81), done.\n",
            "/content/crosstalk-q1-2025\n"
          ]
        }
      ],
      "source": [
        "# Check if directory exists and remove it if it does\n",
        "import os\n",
        "import shutil\n",
        "if os.path.exists('crosstalk-q1-2025'):\n",
        "    shutil.rmtree('crosstalk-q1-2025')\n",
        "!git clone https://github.com/cottascience/crosstalk-q1-2025.git\n",
        "%cd crosstalk-q1-2025\n",
        "#!pip install -r requirements.txt"
      ]
    },
    {
      "cell_type": "code",
      "source": [
        "!pip install -r requirements.txt"
      ],
      "metadata": {
        "colab": {
          "base_uri": "https://localhost:8080/"
        },
        "id": "ECDBZ_LVNnLa",
        "outputId": "15121588-35f9-4d9a-b640-8b1937863b6a"
      },
      "execution_count": 5,
      "outputs": [
        {
          "output_type": "stream",
          "name": "stdout",
          "text": [
            "Requirement already satisfied: dataclasses in /usr/local/lib/python3.11/dist-packages (from -r requirements.txt (line 1)) (0.6)\n",
            "Requirement already satisfied: numpy in /usr/local/lib/python3.11/dist-packages (from -r requirements.txt (line 2)) (1.26.4)\n",
            "Requirement already satisfied: pandas in /usr/local/lib/python3.11/dist-packages (from -r requirements.txt (line 3)) (2.2.2)\n",
            "Requirement already satisfied: scikit-learn in /usr/local/lib/python3.11/dist-packages (from -r requirements.txt (line 4)) (1.6.1)\n",
            "Requirement already satisfied: gdown in /usr/local/lib/python3.11/dist-packages (from -r requirements.txt (line 5)) (5.2.0)\n",
            "Requirement already satisfied: catboost in /usr/local/lib/python3.11/dist-packages (from -r requirements.txt (line 6)) (1.2.7)\n",
            "Requirement already satisfied: python-dateutil>=2.8.2 in /usr/local/lib/python3.11/dist-packages (from pandas->-r requirements.txt (line 3)) (2.8.2)\n",
            "Requirement already satisfied: pytz>=2020.1 in /usr/local/lib/python3.11/dist-packages (from pandas->-r requirements.txt (line 3)) (2025.1)\n",
            "Requirement already satisfied: tzdata>=2022.7 in /usr/local/lib/python3.11/dist-packages (from pandas->-r requirements.txt (line 3)) (2025.1)\n",
            "Requirement already satisfied: scipy>=1.6.0 in /usr/local/lib/python3.11/dist-packages (from scikit-learn->-r requirements.txt (line 4)) (1.13.1)\n",
            "Requirement already satisfied: joblib>=1.2.0 in /usr/local/lib/python3.11/dist-packages (from scikit-learn->-r requirements.txt (line 4)) (1.4.2)\n",
            "Requirement already satisfied: threadpoolctl>=3.1.0 in /usr/local/lib/python3.11/dist-packages (from scikit-learn->-r requirements.txt (line 4)) (3.5.0)\n",
            "Requirement already satisfied: beautifulsoup4 in /usr/local/lib/python3.11/dist-packages (from gdown->-r requirements.txt (line 5)) (4.13.3)\n",
            "Requirement already satisfied: filelock in /usr/local/lib/python3.11/dist-packages (from gdown->-r requirements.txt (line 5)) (3.17.0)\n",
            "Requirement already satisfied: requests[socks] in /usr/local/lib/python3.11/dist-packages (from gdown->-r requirements.txt (line 5)) (2.32.3)\n",
            "Requirement already satisfied: tqdm in /usr/local/lib/python3.11/dist-packages (from gdown->-r requirements.txt (line 5)) (4.67.1)\n",
            "Requirement already satisfied: graphviz in /usr/local/lib/python3.11/dist-packages (from catboost->-r requirements.txt (line 6)) (0.20.3)\n",
            "Requirement already satisfied: matplotlib in /usr/local/lib/python3.11/dist-packages (from catboost->-r requirements.txt (line 6)) (3.10.0)\n",
            "Requirement already satisfied: plotly in /usr/local/lib/python3.11/dist-packages (from catboost->-r requirements.txt (line 6)) (5.24.1)\n",
            "Requirement already satisfied: six in /usr/local/lib/python3.11/dist-packages (from catboost->-r requirements.txt (line 6)) (1.17.0)\n",
            "Requirement already satisfied: soupsieve>1.2 in /usr/local/lib/python3.11/dist-packages (from beautifulsoup4->gdown->-r requirements.txt (line 5)) (2.6)\n",
            "Requirement already satisfied: typing-extensions>=4.0.0 in /usr/local/lib/python3.11/dist-packages (from beautifulsoup4->gdown->-r requirements.txt (line 5)) (4.12.2)\n",
            "Requirement already satisfied: contourpy>=1.0.1 in /usr/local/lib/python3.11/dist-packages (from matplotlib->catboost->-r requirements.txt (line 6)) (1.3.1)\n",
            "Requirement already satisfied: cycler>=0.10 in /usr/local/lib/python3.11/dist-packages (from matplotlib->catboost->-r requirements.txt (line 6)) (0.12.1)\n",
            "Requirement already satisfied: fonttools>=4.22.0 in /usr/local/lib/python3.11/dist-packages (from matplotlib->catboost->-r requirements.txt (line 6)) (4.56.0)\n",
            "Requirement already satisfied: kiwisolver>=1.3.1 in /usr/local/lib/python3.11/dist-packages (from matplotlib->catboost->-r requirements.txt (line 6)) (1.4.8)\n",
            "Requirement already satisfied: packaging>=20.0 in /usr/local/lib/python3.11/dist-packages (from matplotlib->catboost->-r requirements.txt (line 6)) (24.2)\n",
            "Requirement already satisfied: pillow>=8 in /usr/local/lib/python3.11/dist-packages (from matplotlib->catboost->-r requirements.txt (line 6)) (11.1.0)\n",
            "Requirement already satisfied: pyparsing>=2.3.1 in /usr/local/lib/python3.11/dist-packages (from matplotlib->catboost->-r requirements.txt (line 6)) (3.2.1)\n",
            "Requirement already satisfied: tenacity>=6.2.0 in /usr/local/lib/python3.11/dist-packages (from plotly->catboost->-r requirements.txt (line 6)) (9.0.0)\n",
            "Requirement already satisfied: charset-normalizer<4,>=2 in /usr/local/lib/python3.11/dist-packages (from requests[socks]->gdown->-r requirements.txt (line 5)) (3.4.1)\n",
            "Requirement already satisfied: idna<4,>=2.5 in /usr/local/lib/python3.11/dist-packages (from requests[socks]->gdown->-r requirements.txt (line 5)) (3.10)\n",
            "Requirement already satisfied: urllib3<3,>=1.21.1 in /usr/local/lib/python3.11/dist-packages (from requests[socks]->gdown->-r requirements.txt (line 5)) (2.3.0)\n",
            "Requirement already satisfied: certifi>=2017.4.17 in /usr/local/lib/python3.11/dist-packages (from requests[socks]->gdown->-r requirements.txt (line 5)) (2025.1.31)\n",
            "Requirement already satisfied: PySocks!=1.5.7,>=1.5.6 in /usr/local/lib/python3.11/dist-packages (from requests[socks]->gdown->-r requirements.txt (line 5)) (1.7.1)\n"
          ]
        }
      ]
    },
    {
      "cell_type": "markdown",
      "metadata": {
        "id": "45zP8rpaNA1R"
      },
      "source": [
        "# Download the training and test inputs data"
      ]
    },
    {
      "cell_type": "markdown",
      "metadata": {
        "id": "2iaiOKWRNA1R"
      },
      "source": [
        "### Download the training file and upload it to your google Drive (root folder)\n",
        "https://drive.google.com/file/d/11S5p0QgP1X9rOFiIjNSLydLenJwm7hle/view?usp=drive_link\n",
        "https://drive.google.com/file/d/1qM2ikVMKQZsN_WKJc5w7iAulYWpj2rPB/view?usp=drive_link"
      ]
    },
    {
      "cell_type": "code",
      "execution_count": 6,
      "metadata": {
        "colab": {
          "base_uri": "https://localhost:8080/"
        },
        "id": "d7wTUA0-NA1S",
        "outputId": "20914f0a-4f36-46b7-aa79-e897afedf519"
      },
      "outputs": [
        {
          "output_type": "stream",
          "name": "stdout",
          "text": [
            "Mounted at /content/drive\n"
          ]
        }
      ],
      "source": [
        "from google.colab import drive\n",
        "drive.mount('/content/drive')\n",
        "file_path = '/content/drive/My Drive/crosstalk_train.parquet' #check that this is correct"
      ]
    },
    {
      "cell_type": "markdown",
      "metadata": {
        "id": "_aHGFXgrNA1S"
      },
      "source": [
        "# Load the train datasets"
      ]
    },
    {
      "cell_type": "code",
      "execution_count": 7,
      "metadata": {
        "id": "68fFxPzDNA1S"
      },
      "outputs": [],
      "source": [
        "from dataset import Dataset\n",
        "train_dataset = Dataset(filename=file_path, x_col=\"AVALON\") # fingerprints available: 'ATOMPAIR', 'MACCS', 'ECFP6', 'ECFP4', 'FCFP4', 'FCFP6', 'TOPTOR', 'RDK', 'AVALON'"
      ]
    },
    {
      "cell_type": "markdown",
      "metadata": {
        "id": "glcsbMZPNA1T"
      },
      "source": [
        "# Get a smaller subset to make it faster to debug"
      ]
    },
    {
      "cell_type": "code",
      "execution_count": 8,
      "metadata": {
        "id": "M94jbkCeNA1T"
      },
      "outputs": [],
      "source": [
        "import numpy as np\n",
        "random_indices = np.random.choice(len(train_dataset.X), size=1000, replace=False)\n",
        "train_dataset.X = train_dataset.X[random_indices]\n",
        "train_dataset.y = train_dataset.y[random_indices]"
      ]
    },
    {
      "cell_type": "markdown",
      "metadata": {
        "id": "Ru1dPh9CNA1T"
      },
      "source": [
        "# Let's train catboost classifier and see how well it fits the training data"
      ]
    },
    {
      "cell_type": "code",
      "execution_count": 9,
      "metadata": {
        "colab": {
          "base_uri": "https://localhost:8080/"
        },
        "id": "-IXZPrBnNA1U",
        "outputId": "d8971dd3-2054-4fb4-9461-0fa76b56f71b"
      },
      "outputs": [
        {
          "output_type": "stream",
          "name": "stdout",
          "text": [
            "{'accuracy': 1.0, 'balanced_accuracy': 1.0, 'roc_auc': 1.0, 'precision': 1.0, 'recall': 1.0, 'mean_reciprocal_rank': 0.071482871751884, 'positives': 67, 'predicted_positives': 67, 'hits_at_5': 0.07462686567164178, 'precision_at_5': 1.0, 'hits_at_10': 0.14925373134328357, 'precision_at_10': 1.0, 'hits_at_30': 0.44776119402985076, 'precision_at_30': 1.0, 'hits_at_67': 1.0, 'precision_at_67': 1.0}\n"
          ]
        }
      ],
      "source": [
        "import catboost as cb\n",
        "from eval import BinaryEvaluator\n",
        "params = {\n",
        "                'random_strength': 2, # only non-default hyperparam, default is 1\n",
        "                'random_seed': 1234,\n",
        "                'verbose': 0,\n",
        "                'loss_function': 'Logloss',\n",
        "                'task_type': 'GPU',\n",
        "                'devices': '0'\n",
        "            }\n",
        "model = cb.CatBoostClassifier(**params)\n",
        "eval = BinaryEvaluator(train_dataset.X, train_dataset.y)\n",
        "model.fit(train_dataset.X, train_dataset.y)\n",
        "yp = model.predict_proba(train_dataset.X)[:, 1] # or validation\n",
        "print( eval.compute_metrics(yt=train_dataset.y, yp=yp) ) # or validation"
      ]
    },
    {
      "cell_type": "markdown",
      "metadata": {
        "id": "wVWoc8kCNA1U"
      },
      "source": [
        "# How well does it generalize though? Let's try 5-fold cross-validation"
      ]
    },
    {
      "cell_type": "code",
      "execution_count": 10,
      "metadata": {
        "colab": {
          "base_uri": "https://localhost:8080/"
        },
        "id": "dHn9-Vv-NA1U",
        "outputId": "a7daabcb-3df9-4ff0-ff96-ff0e3d46cd30"
      },
      "outputs": [
        {
          "output_type": "stream",
          "name": "stdout",
          "text": [
            "{'mean': {'accuracy': 0.929, 'balanced_accuracy': 0.5116208585848054, 'roc_auc': 0.7053522694888918, 'precision': 0.2, 'recall': 0.02967032967032967, 'mrr': 0.08687235408371514, 'precision_at_k_5': 0.36, 'hits_at_k_5': 0.13626373626373628, 'precision_at_k_10': 0.34, 'hits_at_k_10': 0.2549450549450549, 'precision_at_k_30': 0.18666666666666668, 'hits_at_k_30': 0.4186813186813187}, 'std': {'accuracy': 0.0037416573867739447, 'balanced_accuracy': 0.018650667988979207, 'roc_auc': 0.04793981475496594, 'precision': 0.24494897427831783, 'recall': 0.03638009968625681, 'mrr': 0.026016201857305046, 'precision_at_k_5': 0.14966629547095764, 'hits_at_k_5': 0.059927904195323, 'precision_at_k_10': 0.1019803902718557, 'hits_at_k_10': 0.07936470367150676, 'precision_at_k_30': 0.04521553322083512, 'hits_at_k_30': 0.10275753606646996}}\n"
          ]
        }
      ],
      "source": [
        "model = cb.CatBoostClassifier(**params)\n",
        "res = eval.CV_model(model)\n",
        "print(res)"
      ]
    },
    {
      "cell_type": "markdown",
      "metadata": {
        "id": "6psZEgT3NA1U"
      },
      "source": [
        "# Let's compare it against simpler sklearn baselines"
      ]
    },
    {
      "cell_type": "code",
      "execution_count": 11,
      "metadata": {
        "colab": {
          "base_uri": "https://localhost:8080/"
        },
        "id": "6r-s2K15NA1U",
        "outputId": "2bba6767-6ffa-4c8b-8bfd-ca706d7d439a"
      },
      "outputs": [
        {
          "output_type": "stream",
          "name": "stdout",
          "text": [
            "{'stratified_dummy': {'mean': {'accuracy': 0.885, 'balanced_accuracy': 0.48859202151422265, 'roc_auc': 0.48859202151422265, 'precision': 0.0375, 'recall': 0.03076923076923077, 'mrr': 0.1203235979706568, 'precision_at_k_5': 0.0, 'hits_at_k_5': 0.03076923076923077, 'precision_at_k_10': 0.02, 'hits_at_k_10': 0.6153846153846153, 'precision_at_k_30': 0.06000000000000001, 'hits_at_k_30': 1.0}, 'std': {'accuracy': 0.013038404810405309, 'balanced_accuracy': 0.018049376776483373, 'roc_auc': 0.018049376776483328, 'precision': 0.049999999999999996, 'recall': 0.03768445758127967, 'mrr': 0.03258959626756458, 'precision_at_k_5': 0.0, 'hits_at_k_5': 0.03768445758127967, 'precision_at_k_10': 0.04, 'hits_at_k_10': 0.4716833759001813, 'precision_at_k_30': 0.032659863237109045, 'hits_at_k_30': 0.0}}, 'most_frequent_dummy': {'mean': {'accuracy': 0.933, 'balanced_accuracy': 0.5, 'roc_auc': 0.5, 'precision': 0.0, 'recall': 0.0, 'mrr': 1.0, 'precision_at_k_5': 0.08, 'hits_at_k_5': 1.0, 'precision_at_k_10': 0.06000000000000001, 'hits_at_k_10': 1.0, 'precision_at_k_30': 0.06, 'hits_at_k_30': 1.0}, 'std': {'accuracy': 0.00244948974278318, 'balanced_accuracy': 0.0, 'roc_auc': 0.0, 'precision': 0.0, 'recall': 0.0, 'mrr': 0.0, 'precision_at_k_5': 0.16, 'hits_at_k_5': 0.0, 'precision_at_k_10': 0.08, 'hits_at_k_10': 0.0, 'precision_at_k_30': 0.05333333333333334, 'hits_at_k_30': 0.0}}, 'uniform_dummy': {'mean': {'accuracy': 0.067, 'balanced_accuracy': 0.5, 'roc_auc': 0.5, 'precision': 0.067, 'recall': 1.0, 'mrr': 1.0, 'precision_at_k_5': 0.08, 'hits_at_k_5': 1.0, 'precision_at_k_10': 0.06000000000000001, 'hits_at_k_10': 1.0, 'precision_at_k_30': 0.06, 'hits_at_k_30': 1.0}, 'std': {'accuracy': 0.00244948974278318, 'balanced_accuracy': 0.0, 'roc_auc': 0.0, 'precision': 0.00244948974278318, 'recall': 0.0, 'mrr': 0.0, 'precision_at_k_5': 0.16, 'hits_at_k_5': 0.0, 'precision_at_k_10': 0.08, 'hits_at_k_10': 0.0, 'precision_at_k_30': 0.05333333333333334, 'hits_at_k_30': 0.0}}, 'logistic_regression': {'mean': {'accuracy': 0.899, 'balanced_accuracy': 0.5368405155881437, 'roc_auc': 0.6711711754406252, 'precision': 0.12373737373737374, 'recall': 0.11868131868131868, 'mrr': 0.0420190899007309, 'precision_at_k_5': 0.08, 'hits_at_k_5': 0.02967032967032967, 'precision_at_k_10': 0.12000000000000002, 'hits_at_k_10': 0.09010989010989011, 'precision_at_k_30': 0.13999999999999999, 'hits_at_k_30': 0.3164835164835165}, 'std': {'accuracy': 0.011135528725660053, 'balanced_accuracy': 0.041042307876011194, 'roc_auc': 0.045749870033988504, 'precision': 0.08286522950300479, 'recall': 0.09665333374635614, 'mrr': 0.01325520967471676, 'precision_at_k_5': 0.09797958971132713, 'hits_at_k_5': 0.03638009968625681, 'precision_at_k_10': 0.07483314773547883, 'hits_at_k_10': 0.05533924532753482, 'precision_at_k_30': 0.05333333333333334, 'hits_at_k_30': 0.12690285743518287}}, 'decision_tree': {'mean': {'accuracy': 0.9269999999999999, 'balanced_accuracy': 0.5589885762561284, 'roc_auc': 0.576055127668031, 'precision': 0.375, 'recall': 0.1340659340659341, 'mrr': 0.1922854987223544, 'precision_at_k_5': 0.36000000000000004, 'hits_at_k_5': 0.378021978021978, 'precision_at_k_10': 0.25999999999999995, 'hits_at_k_10': 0.8274725274725275, 'precision_at_k_30': 0.11333333333333333, 'hits_at_k_30': 0.9560439560439562}, 'std': {'accuracy': 0.006782329983125275, 'balanced_accuracy': 0.03429443248335108, 'roc_auc': 0.042015181654311624, 'precision': 0.11180339887498948, 'recall': 0.07244417461032751, 'mrr': 0.06146195486883141, 'precision_at_k_5': 0.14966629547095767, 'hits_at_k_5': 0.3110763671818476, 'precision_at_k_10': 0.10198039027185571, 'hits_at_k_10': 0.30803748299687, 'precision_at_k_30': 0.054160256030906406, 'hits_at_k_30': 0.05773154082006022}}, 'random_forest': {'mean': {'accuracy': 0.933, 'balanced_accuracy': 0.5, 'roc_auc': 0.6234904248186981, 'precision': 0.0, 'recall': 0.0, 'mrr': 0.0777929134711446, 'precision_at_k_5': 0.36, 'hits_at_k_5': 0.1340659340659341, 'precision_at_k_10': 0.18, 'hits_at_k_10': 0.1340659340659341, 'precision_at_k_30': 0.13333333333333333, 'hits_at_k_30': 0.3}, 'std': {'accuracy': 0.00244948974278318, 'balanced_accuracy': 0.0, 'roc_auc': 0.04678325558490337, 'precision': 0.0, 'recall': 0.0, 'mrr': 0.03607592568213682, 'precision_at_k_5': 0.08, 'hits_at_k_5': 0.02899100210609433, 'precision_at_k_10': 0.04, 'hits_at_k_10': 0.02899100210609433, 'precision_at_k_30': 0.047140452079103175, 'hits_at_k_30': 0.11150462324365559}}, 'linear_svc': {'mean': {'accuracy': 0.933, 'balanced_accuracy': 0.5, 'roc_auc': 0.66901055933314, 'precision': 0.0, 'recall': 0.0, 'mrr': 0.04595222058734097, 'precision_at_k_5': 0.12000000000000002, 'hits_at_k_5': 0.045054945054945054, 'precision_at_k_10': 0.12000000000000002, 'hits_at_k_10': 0.09010989010989011, 'precision_at_k_30': 0.12666666666666665, 'hits_at_k_30': 0.2857142857142857}, 'std': {'accuracy': 0.00244948974278318, 'balanced_accuracy': 0.0, 'roc_auc': 0.04129480594925531, 'precision': 0.0, 'recall': 0.0, 'mrr': 0.014704836701155636, 'precision_at_k_5': 0.09797958971132713, 'hits_at_k_5': 0.036841878273055406, 'precision_at_k_10': 0.07483314773547883, 'hits_at_k_10': 0.05533924532753482, 'precision_at_k_30': 0.038873012632302, 'hits_at_k_30': 0.09272537630650106}}}\n"
          ]
        }
      ],
      "source": [
        "from eval import get_baseline_models\n",
        "\n",
        "eval = BinaryEvaluator(train_dataset.X, train_dataset.y)\n",
        "baselines = get_baseline_models()\n",
        "baselines_res = {}\n",
        "\n",
        "for m in baselines:\n",
        "    baselines_res[m] = eval.CV_model(baselines[m])\n",
        "\n",
        "print(baselines_res)"
      ]
    },
    {
      "cell_type": "markdown",
      "source": [
        "# Our Approach\n"
      ],
      "metadata": {
        "id": "2B6lVqguVFA3"
      }
    },
    {
      "cell_type": "code",
      "source": [
        "test_file_path = '/content/drive/My Drive/crosstalk_test_inputs.parquet' #inputs\n",
        "\n",
        "test_dataset = Dataset(filename=file_path, x_col=\"AVALON\") # fingerprints available: 'ATOMPAIR', 'MACCS', 'ECFP6', 'ECFP4', 'FCFP4', 'FCFP6', 'TOPTOR', 'RDK', 'AVALON'\n",
        "\n",
        "print(test_dataset)\n",
        "\n"
      ],
      "metadata": {
        "id": "n9ueNmPtVJqc"
      },
      "execution_count": null,
      "outputs": []
    }
  ],
  "metadata": {
    "kernelspec": {
      "display_name": "cuda_env",
      "language": "python",
      "name": "cuda_env"
    },
    "colab": {
      "provenance": [],
      "gpuType": "T4"
    },
    "accelerator": "GPU"
  },
  "nbformat": 4,
  "nbformat_minor": 0
}