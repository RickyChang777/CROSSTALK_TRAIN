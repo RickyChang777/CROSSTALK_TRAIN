{
  "cells": [
    {
      "cell_type": "markdown",
      "metadata": {
        "id": "view-in-github",
        "colab_type": "text"
      },
      "source": [
        "<a href=\"https://colab.research.google.com/github/RickyChang777/CROSSTALK_TRAIN/blob/main/CROSSTALK_TRAIN.ipynb\" target=\"_parent\"><img src=\"https://colab.research.google.com/assets/colab-badge.svg\" alt=\"Open In Colab\"/></a>"
      ]
    },
    {
      "cell_type": "markdown",
      "metadata": {
        "id": "Zx383bU7NA1P"
      },
      "source": [
        "# Set up envinroment for Google Colab"
      ]
    },
    {
      "cell_type": "code",
      "execution_count": 3,
      "metadata": {
        "id": "t6w7nq08NA1Q",
        "outputId": "7c678373-681f-41c6-87a1-eebeff649b61",
        "colab": {
          "base_uri": "https://localhost:8080/"
        }
      },
      "outputs": [
        {
          "output_type": "stream",
          "name": "stdout",
          "text": [
            "Cloning into 'crosstalk-q1-2025'...\n",
            "remote: Enumerating objects: 178, done.\u001b[K\n",
            "remote: Counting objects: 100% (23/23), done.\u001b[K\n",
            "remote: Compressing objects: 100% (20/20), done.\u001b[K\n",
            "remote: Total 178 (delta 7), reused 7 (delta 3), pack-reused 155 (from 1)\u001b[K\n",
            "Receiving objects: 100% (178/178), 33.46 MiB | 23.04 MiB/s, done.\n",
            "Resolving deltas: 100% (81/81), done.\n",
            "/content/crosstalk-q1-2025\n"
          ]
        }
      ],
      "source": [
        "# Check if directory exists and remove it if it does\n",
        "import os\n",
        "import shutil\n",
        "if os.path.exists('crosstalk-q1-2025'):\n",
        "    shutil.rmtree('crosstalk-q1-2025')\n",
        "!git clone https://github.com/cottascience/crosstalk-q1-2025.git\n",
        "%cd crosstalk-q1-2025\n",
        "#!pip install -r requirements.txt"
      ]
    },
    {
      "cell_type": "code",
      "source": [
        "!pip install -r requirements.txt"
      ],
      "metadata": {
        "id": "ECDBZ_LVNnLa",
        "outputId": "15121588-35f9-4d9a-b640-8b1937863b6a",
        "colab": {
          "base_uri": "https://localhost:8080/"
        }
      },
      "execution_count": 5,
      "outputs": [
        {
          "output_type": "stream",
          "name": "stdout",
          "text": [
            "Requirement already satisfied: dataclasses in /usr/local/lib/python3.11/dist-packages (from -r requirements.txt (line 1)) (0.6)\n",
            "Requirement already satisfied: numpy in /usr/local/lib/python3.11/dist-packages (from -r requirements.txt (line 2)) (1.26.4)\n",
            "Requirement already satisfied: pandas in /usr/local/lib/python3.11/dist-packages (from -r requirements.txt (line 3)) (2.2.2)\n",
            "Requirement already satisfied: scikit-learn in /usr/local/lib/python3.11/dist-packages (from -r requirements.txt (line 4)) (1.6.1)\n",
            "Requirement already satisfied: gdown in /usr/local/lib/python3.11/dist-packages (from -r requirements.txt (line 5)) (5.2.0)\n",
            "Requirement already satisfied: catboost in /usr/local/lib/python3.11/dist-packages (from -r requirements.txt (line 6)) (1.2.7)\n",
            "Requirement already satisfied: python-dateutil>=2.8.2 in /usr/local/lib/python3.11/dist-packages (from pandas->-r requirements.txt (line 3)) (2.8.2)\n",
            "Requirement already satisfied: pytz>=2020.1 in /usr/local/lib/python3.11/dist-packages (from pandas->-r requirements.txt (line 3)) (2025.1)\n",
            "Requirement already satisfied: tzdata>=2022.7 in /usr/local/lib/python3.11/dist-packages (from pandas->-r requirements.txt (line 3)) (2025.1)\n",
            "Requirement already satisfied: scipy>=1.6.0 in /usr/local/lib/python3.11/dist-packages (from scikit-learn->-r requirements.txt (line 4)) (1.13.1)\n",
            "Requirement already satisfied: joblib>=1.2.0 in /usr/local/lib/python3.11/dist-packages (from scikit-learn->-r requirements.txt (line 4)) (1.4.2)\n",
            "Requirement already satisfied: threadpoolctl>=3.1.0 in /usr/local/lib/python3.11/dist-packages (from scikit-learn->-r requirements.txt (line 4)) (3.5.0)\n",
            "Requirement already satisfied: beautifulsoup4 in /usr/local/lib/python3.11/dist-packages (from gdown->-r requirements.txt (line 5)) (4.13.3)\n",
            "Requirement already satisfied: filelock in /usr/local/lib/python3.11/dist-packages (from gdown->-r requirements.txt (line 5)) (3.17.0)\n",
            "Requirement already satisfied: requests[socks] in /usr/local/lib/python3.11/dist-packages (from gdown->-r requirements.txt (line 5)) (2.32.3)\n",
            "Requirement already satisfied: tqdm in /usr/local/lib/python3.11/dist-packages (from gdown->-r requirements.txt (line 5)) (4.67.1)\n",
            "Requirement already satisfied: graphviz in /usr/local/lib/python3.11/dist-packages (from catboost->-r requirements.txt (line 6)) (0.20.3)\n",
            "Requirement already satisfied: matplotlib in /usr/local/lib/python3.11/dist-packages (from catboost->-r requirements.txt (line 6)) (3.10.0)\n",
            "Requirement already satisfied: plotly in /usr/local/lib/python3.11/dist-packages (from catboost->-r requirements.txt (line 6)) (5.24.1)\n",
            "Requirement already satisfied: six in /usr/local/lib/python3.11/dist-packages (from catboost->-r requirements.txt (line 6)) (1.17.0)\n",
            "Requirement already satisfied: soupsieve>1.2 in /usr/local/lib/python3.11/dist-packages (from beautifulsoup4->gdown->-r requirements.txt (line 5)) (2.6)\n",
            "Requirement already satisfied: typing-extensions>=4.0.0 in /usr/local/lib/python3.11/dist-packages (from beautifulsoup4->gdown->-r requirements.txt (line 5)) (4.12.2)\n",
            "Requirement already satisfied: contourpy>=1.0.1 in /usr/local/lib/python3.11/dist-packages (from matplotlib->catboost->-r requirements.txt (line 6)) (1.3.1)\n",
            "Requirement already satisfied: cycler>=0.10 in /usr/local/lib/python3.11/dist-packages (from matplotlib->catboost->-r requirements.txt (line 6)) (0.12.1)\n",
            "Requirement already satisfied: fonttools>=4.22.0 in /usr/local/lib/python3.11/dist-packages (from matplotlib->catboost->-r requirements.txt (line 6)) (4.56.0)\n",
            "Requirement already satisfied: kiwisolver>=1.3.1 in /usr/local/lib/python3.11/dist-packages (from matplotlib->catboost->-r requirements.txt (line 6)) (1.4.8)\n",
            "Requirement already satisfied: packaging>=20.0 in /usr/local/lib/python3.11/dist-packages (from matplotlib->catboost->-r requirements.txt (line 6)) (24.2)\n",
            "Requirement already satisfied: pillow>=8 in /usr/local/lib/python3.11/dist-packages (from matplotlib->catboost->-r requirements.txt (line 6)) (11.1.0)\n",
            "Requirement already satisfied: pyparsing>=2.3.1 in /usr/local/lib/python3.11/dist-packages (from matplotlib->catboost->-r requirements.txt (line 6)) (3.2.1)\n",
            "Requirement already satisfied: tenacity>=6.2.0 in /usr/local/lib/python3.11/dist-packages (from plotly->catboost->-r requirements.txt (line 6)) (9.0.0)\n",
            "Requirement already satisfied: charset-normalizer<4,>=2 in /usr/local/lib/python3.11/dist-packages (from requests[socks]->gdown->-r requirements.txt (line 5)) (3.4.1)\n",
            "Requirement already satisfied: idna<4,>=2.5 in /usr/local/lib/python3.11/dist-packages (from requests[socks]->gdown->-r requirements.txt (line 5)) (3.10)\n",
            "Requirement already satisfied: urllib3<3,>=1.21.1 in /usr/local/lib/python3.11/dist-packages (from requests[socks]->gdown->-r requirements.txt (line 5)) (2.3.0)\n",
            "Requirement already satisfied: certifi>=2017.4.17 in /usr/local/lib/python3.11/dist-packages (from requests[socks]->gdown->-r requirements.txt (line 5)) (2025.1.31)\n",
            "Requirement already satisfied: PySocks!=1.5.7,>=1.5.6 in /usr/local/lib/python3.11/dist-packages (from requests[socks]->gdown->-r requirements.txt (line 5)) (1.7.1)\n"
          ]
        }
      ]
    },
    {
      "cell_type": "markdown",
      "metadata": {
        "id": "45zP8rpaNA1R"
      },
      "source": [
        "# Download the training and test inputs data"
      ]
    },
    {
      "cell_type": "markdown",
      "metadata": {
        "id": "2iaiOKWRNA1R"
      },
      "source": [
        "### Download the training file and upload it to your google Drive (root folder)\n",
        "https://drive.google.com/file/d/11S5p0QgP1X9rOFiIjNSLydLenJwm7hle/view?usp=drive_link\n",
        "https://drive.google.com/file/d/1qM2ikVMKQZsN_WKJc5w7iAulYWpj2rPB/view?usp=drive_link"
      ]
    },
    {
      "cell_type": "code",
      "execution_count": 6,
      "metadata": {
        "id": "d7wTUA0-NA1S",
        "outputId": "20914f0a-4f36-46b7-aa79-e897afedf519",
        "colab": {
          "base_uri": "https://localhost:8080/"
        }
      },
      "outputs": [
        {
          "output_type": "stream",
          "name": "stdout",
          "text": [
            "Mounted at /content/drive\n"
          ]
        }
      ],
      "source": [
        "from google.colab import drive\n",
        "drive.mount('/content/drive')\n",
        "file_path = '/content/drive/My Drive/crosstalk_train.parquet' #check that this is correct"
      ]
    },
    {
      "cell_type": "markdown",
      "metadata": {
        "id": "_aHGFXgrNA1S"
      },
      "source": [
        "# Load the train datasets"
      ]
    },
    {
      "cell_type": "code",
      "execution_count": 7,
      "metadata": {
        "id": "68fFxPzDNA1S"
      },
      "outputs": [],
      "source": [
        "from dataset import Dataset\n",
        "train_dataset = Dataset(filename=file_path, x_col=\"AVALON\") # fingerprints available: 'ATOMPAIR', 'MACCS', 'ECFP6', 'ECFP4', 'FCFP4', 'FCFP6', 'TOPTOR', 'RDK', 'AVALON'"
      ]
    },
    {
      "cell_type": "markdown",
      "metadata": {
        "id": "glcsbMZPNA1T"
      },
      "source": [
        "# Get a smaller subset to make it faster to debug"
      ]
    },
    {
      "cell_type": "code",
      "execution_count": 8,
      "metadata": {
        "id": "M94jbkCeNA1T"
      },
      "outputs": [],
      "source": [
        "import numpy as np\n",
        "random_indices = np.random.choice(len(train_dataset.X), size=1000, replace=False)\n",
        "train_dataset.X = train_dataset.X[random_indices]\n",
        "train_dataset.y = train_dataset.y[random_indices]"
      ]
    },
    {
      "cell_type": "markdown",
      "metadata": {
        "id": "Ru1dPh9CNA1T"
      },
      "source": [
        "# Let's train catboost classifier and see how well it fits the training data"
      ]
    },
    {
      "cell_type": "code",
      "execution_count": 9,
      "metadata": {
        "id": "-IXZPrBnNA1U",
        "outputId": "d8971dd3-2054-4fb4-9461-0fa76b56f71b",
        "colab": {
          "base_uri": "https://localhost:8080/"
        }
      },
      "outputs": [
        {
          "output_type": "stream",
          "name": "stdout",
          "text": [
            "{'accuracy': 1.0, 'balanced_accuracy': 1.0, 'roc_auc': 1.0, 'precision': 1.0, 'recall': 1.0, 'mean_reciprocal_rank': 0.071482871751884, 'positives': 67, 'predicted_positives': 67, 'hits_at_5': 0.07462686567164178, 'precision_at_5': 1.0, 'hits_at_10': 0.14925373134328357, 'precision_at_10': 1.0, 'hits_at_30': 0.44776119402985076, 'precision_at_30': 1.0, 'hits_at_67': 1.0, 'precision_at_67': 1.0}\n"
          ]
        }
      ],
      "source": [
        "import catboost as cb\n",
        "from eval import BinaryEvaluator\n",
        "params = {\n",
        "                'random_strength': 2, # only non-default hyperparam, default is 1\n",
        "                'random_seed': 1234,\n",
        "                'verbose': 0,\n",
        "                'loss_function': 'Logloss',\n",
        "                'task_type': 'GPU',\n",
        "                'devices': '0'\n",
        "            }\n",
        "model = cb.CatBoostClassifier(**params)\n",
        "eval = BinaryEvaluator(train_dataset.X, train_dataset.y)\n",
        "model.fit(train_dataset.X, train_dataset.y)\n",
        "yp = model.predict_proba(train_dataset.X)[:, 1] # or validation\n",
        "print( eval.compute_metrics(yt=train_dataset.y, yp=yp) ) # or validation"
      ]
    },
    {
      "cell_type": "markdown",
      "metadata": {
        "id": "wVWoc8kCNA1U"
      },
      "source": [
        "# How well does it generalize though? Let's try 5-fold cross-validation"
      ]
    },
    {
      "cell_type": "code",
      "execution_count": null,
      "metadata": {
        "id": "dHn9-Vv-NA1U"
      },
      "outputs": [],
      "source": [
        "model = cb.CatBoostClassifier(**params)\n",
        "res = eval.CV_model(model)\n",
        "print(res)"
      ]
    },
    {
      "cell_type": "markdown",
      "metadata": {
        "id": "6psZEgT3NA1U"
      },
      "source": [
        "# Let's compare it against simpler sklearn baselines"
      ]
    },
    {
      "cell_type": "code",
      "execution_count": null,
      "metadata": {
        "id": "6r-s2K15NA1U"
      },
      "outputs": [],
      "source": [
        "from eval import get_baseline_models\n",
        "\n",
        "eval = BinaryEvaluator(train_dataset.X, train_dataset.y)\n",
        "baselines = get_baseline_models()\n",
        "baselines_res = {}\n",
        "\n",
        "for m in baselines:\n",
        "    baselines_res[m] = eval.CV_model(baselines[m])\n",
        "\n",
        "print(baselines_res)"
      ]
    }
  ],
  "metadata": {
    "kernelspec": {
      "display_name": "cuda_env",
      "language": "python",
      "name": "cuda_env"
    },
    "colab": {
      "provenance": [],
      "gpuType": "T4",
      "include_colab_link": true
    },
    "accelerator": "GPU"
  },
  "nbformat": 4,
  "nbformat_minor": 0
}